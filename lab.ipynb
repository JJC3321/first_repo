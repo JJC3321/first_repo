{
 "cells": [
  {
   "cell_type": "code",
   "execution_count": 4,
   "id": "90f58146",
   "metadata": {},
   "outputs": [],
   "source": [
    "import pandas as pd\n",
    "import bioinfo"
   ]
  },
  {
   "cell_type": "code",
   "execution_count": 13,
   "id": "1e8074c8",
   "metadata": {},
   "outputs": [],
   "source": [
    "df = pd.read_excel(\"Mantamonis_bacterial_contamination_analysis.xlsx\")\n",
    "df = df[[\"contig ID\", \"Seq Coverage\"]]\n",
    "df = df.sort_values(by=\"Seq Coverage\", ascending=False).reset_index(drop=True)\n",
    "df.to_excel(\"filtered_mantamonis.xlsx\", index=False)"
   ]
  }
 ],
 "metadata": {
  "kernelspec": {
   "display_name": "env",
   "language": "python",
   "name": "python3"
  },
  "language_info": {
   "codemirror_mode": {
    "name": "ipython",
    "version": 3
   },
   "file_extension": ".py",
   "mimetype": "text/x-python",
   "name": "python",
   "nbconvert_exporter": "python",
   "pygments_lexer": "ipython3",
   "version": "3.12.1"
  }
 },
 "nbformat": 4,
 "nbformat_minor": 5
}
